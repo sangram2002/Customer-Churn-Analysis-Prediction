{
 "cells": [
  {
   "cell_type": "code",
   "execution_count": 58,
   "metadata": {},
   "outputs": [],
   "source": [
    "import numpy as np\n",
    "import pandas as pd\n",
    "from sklearn.model_selection import train_test_split\n",
    "from sklearn.ensemble import RandomForestClassifier\n",
    "from sklearn.metrics import classification_report,confusion_matrix\n",
    "from sklearn.preprocessing import LabelEncoder\n",
    "import matplotlib.pyplot as plt\n",
    "import seaborn as sns"
   ]
  },
  {
   "cell_type": "code",
   "execution_count": 59,
   "id": "bb9a1314",
   "metadata": {},
   "outputs": [
    {
     "data": {
      "application/vnd.microsoft.datawrangler.viewer.v0+json": {
       "columns": [
        {
         "name": "index",
         "rawType": "int64",
         "type": "integer"
        },
        {
         "name": "Customer_ID",
         "rawType": "object",
         "type": "string"
        },
        {
         "name": "Gender",
         "rawType": "object",
         "type": "string"
        },
        {
         "name": "Age",
         "rawType": "int64",
         "type": "integer"
        },
        {
         "name": "Married",
         "rawType": "object",
         "type": "string"
        },
        {
         "name": "State",
         "rawType": "object",
         "type": "string"
        },
        {
         "name": "Number_of_Referrals",
         "rawType": "int64",
         "type": "integer"
        },
        {
         "name": "Tenure_in_Months",
         "rawType": "int64",
         "type": "integer"
        },
        {
         "name": "Value_Deal",
         "rawType": "object",
         "type": "unknown"
        },
        {
         "name": "Phone_Service",
         "rawType": "object",
         "type": "string"
        },
        {
         "name": "Multiple_Lines",
         "rawType": "object",
         "type": "string"
        },
        {
         "name": "Internet_Service",
         "rawType": "object",
         "type": "string"
        },
        {
         "name": "Internet_Type",
         "rawType": "object",
         "type": "string"
        },
        {
         "name": "Online_Security",
         "rawType": "object",
         "type": "string"
        },
        {
         "name": "Online_Backup",
         "rawType": "object",
         "type": "string"
        },
        {
         "name": "Device_Protection_Plan",
         "rawType": "object",
         "type": "string"
        },
        {
         "name": "Premium_Support",
         "rawType": "object",
         "type": "string"
        },
        {
         "name": "Streaming_TV",
         "rawType": "object",
         "type": "string"
        },
        {
         "name": "Streaming_Movies",
         "rawType": "object",
         "type": "string"
        },
        {
         "name": "Streaming_Music",
         "rawType": "object",
         "type": "string"
        },
        {
         "name": "Unlimited_Data",
         "rawType": "object",
         "type": "string"
        },
        {
         "name": "Contract",
         "rawType": "object",
         "type": "string"
        },
        {
         "name": "Paperless_Billing",
         "rawType": "object",
         "type": "string"
        },
        {
         "name": "Payment_Method",
         "rawType": "object",
         "type": "string"
        },
        {
         "name": "Monthly_Charge",
         "rawType": "float64",
         "type": "float"
        },
        {
         "name": "Total_Charges",
         "rawType": "float64",
         "type": "float"
        },
        {
         "name": "Total_Refunds",
         "rawType": "float64",
         "type": "float"
        },
        {
         "name": "Total_Extra_Data_Charges",
         "rawType": "int64",
         "type": "integer"
        },
        {
         "name": "Total_Long_Distance_Charges",
         "rawType": "float64",
         "type": "float"
        },
        {
         "name": "Total_Revenue",
         "rawType": "float64",
         "type": "float"
        },
        {
         "name": "Customer_Status",
         "rawType": "object",
         "type": "string"
        },
        {
         "name": "Churn_Category",
         "rawType": "object",
         "type": "unknown"
        },
        {
         "name": "Churn_Reason",
         "rawType": "object",
         "type": "unknown"
        }
       ],
       "ref": "a8acd5fb-3d19-4c71-94e4-e86c890b5143",
       "rows": [
        [
         "0",
         "19877-DEL",
         "Male",
         "35",
         "No",
         "Delhi",
         "7",
         "27",
         null,
         "Yes",
         "No",
         "Yes",
         "Cable",
         "No",
         "Yes",
         "No",
         "Yes",
         "Yes",
         "No",
         "No",
         "Yes",
         "One Year",
         "Yes",
         "Credit Card",
         "65.6",
         "593.3",
         "0.0",
         "0",
         "381.51",
         "974.81",
         "Stayed",
         null,
         null
        ],
        [
         "1",
         "58353-MAH",
         "Female",
         "45",
         "Yes",
         "Maharashtra",
         "14",
         "13",
         null,
         "Yes",
         "Yes",
         "Yes",
         "Cable",
         "No",
         "No",
         "No",
         "No",
         "No",
         "Yes",
         "Yes",
         "No",
         "Month-to-Month",
         "No",
         "Credit Card",
         "-4.0",
         "542.4",
         "38.33",
         "10",
         "96.21",
         "610.28",
         "Stayed",
         null,
         null
        ],
        [
         "2",
         "25063-WES",
         "Male",
         "51",
         "No",
         "West Bengal",
         "4",
         "35",
         "Deal 5",
         "Yes",
         "No",
         "Yes",
         "Fiber Optic",
         "No",
         "No",
         "Yes",
         "No",
         "No",
         "No",
         "No",
         "Yes",
         "Month-to-Month",
         "Yes",
         "Bank Withdrawal",
         "73.9",
         "280.85",
         "0.0",
         "0",
         "134.6",
         "415.45",
         "Churned",
         "Competitor",
         "Competitor had better devices"
        ],
        [
         "3",
         "59787-KAR",
         "Male",
         "79",
         "No",
         "Karnataka",
         "3",
         "21",
         "Deal 4",
         "Yes",
         "No",
         "Yes",
         "Fiber Optic",
         "No",
         "Yes",
         "Yes",
         "No",
         "Yes",
         "Yes",
         "No",
         "Yes",
         "Month-to-Month",
         "Yes",
         "Bank Withdrawal",
         "98.0",
         "1237.85",
         "0.0",
         "0",
         "361.66",
         "1599.51",
         "Churned",
         "Dissatisfaction",
         "Product dissatisfaction"
        ],
        [
         "4",
         "28544-TAM",
         "Female",
         "80",
         "No",
         "Tamil Nadu",
         "3",
         "8",
         null,
         "Yes",
         "No",
         "Yes",
         "Fiber Optic",
         "No",
         "No",
         "No",
         "Yes",
         "Yes",
         "No",
         "No",
         "Yes",
         "Month-to-Month",
         "Yes",
         "Credit Card",
         "83.9",
         "267.4",
         "0.0",
         "0",
         "22.14",
         "289.54",
         "Churned",
         "Dissatisfaction",
         "Network reliability"
        ]
       ],
       "shape": {
        "columns": 32,
        "rows": 5
       }
      },
      "text/html": [
       "<div>\n",
       "<style scoped>\n",
       "    .dataframe tbody tr th:only-of-type {\n",
       "        vertical-align: middle;\n",
       "    }\n",
       "\n",
       "    .dataframe tbody tr th {\n",
       "        vertical-align: top;\n",
       "    }\n",
       "\n",
       "    .dataframe thead th {\n",
       "        text-align: right;\n",
       "    }\n",
       "</style>\n",
       "<table border=\"1\" class=\"dataframe\">\n",
       "  <thead>\n",
       "    <tr style=\"text-align: right;\">\n",
       "      <th></th>\n",
       "      <th>Customer_ID</th>\n",
       "      <th>Gender</th>\n",
       "      <th>Age</th>\n",
       "      <th>Married</th>\n",
       "      <th>State</th>\n",
       "      <th>Number_of_Referrals</th>\n",
       "      <th>Tenure_in_Months</th>\n",
       "      <th>Value_Deal</th>\n",
       "      <th>Phone_Service</th>\n",
       "      <th>Multiple_Lines</th>\n",
       "      <th>...</th>\n",
       "      <th>Payment_Method</th>\n",
       "      <th>Monthly_Charge</th>\n",
       "      <th>Total_Charges</th>\n",
       "      <th>Total_Refunds</th>\n",
       "      <th>Total_Extra_Data_Charges</th>\n",
       "      <th>Total_Long_Distance_Charges</th>\n",
       "      <th>Total_Revenue</th>\n",
       "      <th>Customer_Status</th>\n",
       "      <th>Churn_Category</th>\n",
       "      <th>Churn_Reason</th>\n",
       "    </tr>\n",
       "  </thead>\n",
       "  <tbody>\n",
       "    <tr>\n",
       "      <th>0</th>\n",
       "      <td>19877-DEL</td>\n",
       "      <td>Male</td>\n",
       "      <td>35</td>\n",
       "      <td>No</td>\n",
       "      <td>Delhi</td>\n",
       "      <td>7</td>\n",
       "      <td>27</td>\n",
       "      <td>NaN</td>\n",
       "      <td>Yes</td>\n",
       "      <td>No</td>\n",
       "      <td>...</td>\n",
       "      <td>Credit Card</td>\n",
       "      <td>65.6</td>\n",
       "      <td>593.30</td>\n",
       "      <td>0.00</td>\n",
       "      <td>0</td>\n",
       "      <td>381.51</td>\n",
       "      <td>974.81</td>\n",
       "      <td>Stayed</td>\n",
       "      <td>NaN</td>\n",
       "      <td>NaN</td>\n",
       "    </tr>\n",
       "    <tr>\n",
       "      <th>1</th>\n",
       "      <td>58353-MAH</td>\n",
       "      <td>Female</td>\n",
       "      <td>45</td>\n",
       "      <td>Yes</td>\n",
       "      <td>Maharashtra</td>\n",
       "      <td>14</td>\n",
       "      <td>13</td>\n",
       "      <td>NaN</td>\n",
       "      <td>Yes</td>\n",
       "      <td>Yes</td>\n",
       "      <td>...</td>\n",
       "      <td>Credit Card</td>\n",
       "      <td>-4.0</td>\n",
       "      <td>542.40</td>\n",
       "      <td>38.33</td>\n",
       "      <td>10</td>\n",
       "      <td>96.21</td>\n",
       "      <td>610.28</td>\n",
       "      <td>Stayed</td>\n",
       "      <td>NaN</td>\n",
       "      <td>NaN</td>\n",
       "    </tr>\n",
       "    <tr>\n",
       "      <th>2</th>\n",
       "      <td>25063-WES</td>\n",
       "      <td>Male</td>\n",
       "      <td>51</td>\n",
       "      <td>No</td>\n",
       "      <td>West Bengal</td>\n",
       "      <td>4</td>\n",
       "      <td>35</td>\n",
       "      <td>Deal 5</td>\n",
       "      <td>Yes</td>\n",
       "      <td>No</td>\n",
       "      <td>...</td>\n",
       "      <td>Bank Withdrawal</td>\n",
       "      <td>73.9</td>\n",
       "      <td>280.85</td>\n",
       "      <td>0.00</td>\n",
       "      <td>0</td>\n",
       "      <td>134.60</td>\n",
       "      <td>415.45</td>\n",
       "      <td>Churned</td>\n",
       "      <td>Competitor</td>\n",
       "      <td>Competitor had better devices</td>\n",
       "    </tr>\n",
       "    <tr>\n",
       "      <th>3</th>\n",
       "      <td>59787-KAR</td>\n",
       "      <td>Male</td>\n",
       "      <td>79</td>\n",
       "      <td>No</td>\n",
       "      <td>Karnataka</td>\n",
       "      <td>3</td>\n",
       "      <td>21</td>\n",
       "      <td>Deal 4</td>\n",
       "      <td>Yes</td>\n",
       "      <td>No</td>\n",
       "      <td>...</td>\n",
       "      <td>Bank Withdrawal</td>\n",
       "      <td>98.0</td>\n",
       "      <td>1237.85</td>\n",
       "      <td>0.00</td>\n",
       "      <td>0</td>\n",
       "      <td>361.66</td>\n",
       "      <td>1599.51</td>\n",
       "      <td>Churned</td>\n",
       "      <td>Dissatisfaction</td>\n",
       "      <td>Product dissatisfaction</td>\n",
       "    </tr>\n",
       "    <tr>\n",
       "      <th>4</th>\n",
       "      <td>28544-TAM</td>\n",
       "      <td>Female</td>\n",
       "      <td>80</td>\n",
       "      <td>No</td>\n",
       "      <td>Tamil Nadu</td>\n",
       "      <td>3</td>\n",
       "      <td>8</td>\n",
       "      <td>NaN</td>\n",
       "      <td>Yes</td>\n",
       "      <td>No</td>\n",
       "      <td>...</td>\n",
       "      <td>Credit Card</td>\n",
       "      <td>83.9</td>\n",
       "      <td>267.40</td>\n",
       "      <td>0.00</td>\n",
       "      <td>0</td>\n",
       "      <td>22.14</td>\n",
       "      <td>289.54</td>\n",
       "      <td>Churned</td>\n",
       "      <td>Dissatisfaction</td>\n",
       "      <td>Network reliability</td>\n",
       "    </tr>\n",
       "  </tbody>\n",
       "</table>\n",
       "<p>5 rows × 32 columns</p>\n",
       "</div>"
      ],
      "text/plain": [
       "  Customer_ID  Gender  Age Married        State  Number_of_Referrals  \\\n",
       "0   19877-DEL    Male   35      No        Delhi                    7   \n",
       "1   58353-MAH  Female   45     Yes  Maharashtra                   14   \n",
       "2   25063-WES    Male   51      No  West Bengal                    4   \n",
       "3   59787-KAR    Male   79      No    Karnataka                    3   \n",
       "4   28544-TAM  Female   80      No   Tamil Nadu                    3   \n",
       "\n",
       "   Tenure_in_Months Value_Deal Phone_Service Multiple_Lines  ...  \\\n",
       "0                27        NaN           Yes             No  ...   \n",
       "1                13        NaN           Yes            Yes  ...   \n",
       "2                35     Deal 5           Yes             No  ...   \n",
       "3                21     Deal 4           Yes             No  ...   \n",
       "4                 8        NaN           Yes             No  ...   \n",
       "\n",
       "    Payment_Method Monthly_Charge Total_Charges Total_Refunds  \\\n",
       "0      Credit Card           65.6        593.30          0.00   \n",
       "1      Credit Card           -4.0        542.40         38.33   \n",
       "2  Bank Withdrawal           73.9        280.85          0.00   \n",
       "3  Bank Withdrawal           98.0       1237.85          0.00   \n",
       "4      Credit Card           83.9        267.40          0.00   \n",
       "\n",
       "  Total_Extra_Data_Charges Total_Long_Distance_Charges Total_Revenue  \\\n",
       "0                        0                      381.51        974.81   \n",
       "1                       10                       96.21        610.28   \n",
       "2                        0                      134.60        415.45   \n",
       "3                        0                      361.66       1599.51   \n",
       "4                        0                       22.14        289.54   \n",
       "\n",
       "  Customer_Status   Churn_Category                   Churn_Reason  \n",
       "0          Stayed              NaN                            NaN  \n",
       "1          Stayed              NaN                            NaN  \n",
       "2         Churned       Competitor  Competitor had better devices  \n",
       "3         Churned  Dissatisfaction        Product dissatisfaction  \n",
       "4         Churned  Dissatisfaction            Network reliability  \n",
       "\n",
       "[5 rows x 32 columns]"
      ]
     },
     "execution_count": 59,
     "metadata": {},
     "output_type": "execute_result"
    }
   ],
   "source": [
    "import joblib\n",
    "df = pd.read_csv('D:/Data Science/Extra Projects/Customer Churn prediction/Data & Resources/Data/Customer_Data.csv')\n",
    "df.head()\n"
   ]
  },
  {
   "cell_type": "code",
   "execution_count": 60,
   "id": "18c74442",
   "metadata": {},
   "outputs": [
    {
     "data": {
      "application/vnd.microsoft.datawrangler.viewer.v0+json": {
       "columns": [
        {
         "name": "Customer_Status",
         "rawType": "object",
         "type": "string"
        },
        {
         "name": "count",
         "rawType": "int64",
         "type": "integer"
        }
       ],
       "ref": "f1a6a98b-fa72-4725-ace3-261675719c45",
       "rows": [
        [
         "Stayed",
         "4275"
        ],
        [
         "Churned",
         "1732"
        ],
        [
         "Joined",
         "411"
        ]
       ],
       "shape": {
        "columns": 1,
        "rows": 3
       }
      },
      "text/plain": [
       "Customer_Status\n",
       "Stayed     4275\n",
       "Churned    1732\n",
       "Joined      411\n",
       "Name: count, dtype: int64"
      ]
     },
     "execution_count": 60,
     "metadata": {},
     "output_type": "execute_result"
    }
   ],
   "source": [
    "df['Customer_Status'].value_counts()"
   ]
  },
  {
   "cell_type": "code",
   "execution_count": 61,
   "id": "6961eb4f",
   "metadata": {},
   "outputs": [
    {
     "name": "stdout",
     "output_type": "stream",
     "text": [
      "<class 'pandas.core.frame.DataFrame'>\n",
      "RangeIndex: 6418 entries, 0 to 6417\n",
      "Data columns (total 32 columns):\n",
      " #   Column                       Non-Null Count  Dtype  \n",
      "---  ------                       --------------  -----  \n",
      " 0   Customer_ID                  6418 non-null   object \n",
      " 1   Gender                       6418 non-null   object \n",
      " 2   Age                          6418 non-null   int64  \n",
      " 3   Married                      6418 non-null   object \n",
      " 4   State                        6418 non-null   object \n",
      " 5   Number_of_Referrals          6418 non-null   int64  \n",
      " 6   Tenure_in_Months             6418 non-null   int64  \n",
      " 7   Value_Deal                   2870 non-null   object \n",
      " 8   Phone_Service                6418 non-null   object \n",
      " 9   Multiple_Lines               5796 non-null   object \n",
      " 10  Internet_Service             6418 non-null   object \n",
      " 11  Internet_Type                5028 non-null   object \n",
      " 12  Online_Security              5028 non-null   object \n",
      " 13  Online_Backup                5028 non-null   object \n",
      " 14  Device_Protection_Plan       5028 non-null   object \n",
      " 15  Premium_Support              5028 non-null   object \n",
      " 16  Streaming_TV                 5028 non-null   object \n",
      " 17  Streaming_Movies             5028 non-null   object \n",
      " 18  Streaming_Music              5028 non-null   object \n",
      " 19  Unlimited_Data               5028 non-null   object \n",
      " 20  Contract                     6418 non-null   object \n",
      " 21  Paperless_Billing            6418 non-null   object \n",
      " 22  Payment_Method               6418 non-null   object \n",
      " 23  Monthly_Charge               6418 non-null   float64\n",
      " 24  Total_Charges                6418 non-null   float64\n",
      " 25  Total_Refunds                6418 non-null   float64\n",
      " 26  Total_Extra_Data_Charges     6418 non-null   int64  \n",
      " 27  Total_Long_Distance_Charges  6418 non-null   float64\n",
      " 28  Total_Revenue                6418 non-null   float64\n",
      " 29  Customer_Status              6418 non-null   object \n",
      " 30  Churn_Category               1732 non-null   object \n",
      " 31  Churn_Reason                 1732 non-null   object \n",
      "dtypes: float64(5), int64(4), object(23)\n",
      "memory usage: 1.6+ MB\n"
     ]
    }
   ],
   "source": [
    "df.info()"
   ]
  },
  {
   "cell_type": "code",
   "execution_count": 62,
   "id": "e37124c5",
   "metadata": {},
   "outputs": [
    {
     "name": "stdout",
     "output_type": "stream",
     "text": [
      "<class 'pandas.core.frame.DataFrame'>\n",
      "Index: 411 entries, 17 to 6406\n",
      "Data columns (total 32 columns):\n",
      " #   Column                       Non-Null Count  Dtype  \n",
      "---  ------                       --------------  -----  \n",
      " 0   Customer_ID                  411 non-null    object \n",
      " 1   Gender                       411 non-null    object \n",
      " 2   Age                          411 non-null    int64  \n",
      " 3   Married                      411 non-null    object \n",
      " 4   State                        411 non-null    object \n",
      " 5   Number_of_Referrals          411 non-null    int64  \n",
      " 6   Tenure_in_Months             411 non-null    int64  \n",
      " 7   Value_Deal                   160 non-null    object \n",
      " 8   Phone_Service                411 non-null    object \n",
      " 9   Multiple_Lines               379 non-null    object \n",
      " 10  Internet_Service             411 non-null    object \n",
      " 11  Internet_Type                244 non-null    object \n",
      " 12  Online_Security              244 non-null    object \n",
      " 13  Online_Backup                244 non-null    object \n",
      " 14  Device_Protection_Plan       244 non-null    object \n",
      " 15  Premium_Support              244 non-null    object \n",
      " 16  Streaming_TV                 244 non-null    object \n",
      " 17  Streaming_Movies             244 non-null    object \n",
      " 18  Streaming_Music              244 non-null    object \n",
      " 19  Unlimited_Data               244 non-null    object \n",
      " 20  Contract                     411 non-null    object \n",
      " 21  Paperless_Billing            411 non-null    object \n",
      " 22  Payment_Method               411 non-null    object \n",
      " 23  Monthly_Charge               411 non-null    float64\n",
      " 24  Total_Charges                411 non-null    float64\n",
      " 25  Total_Refunds                411 non-null    float64\n",
      " 26  Total_Extra_Data_Charges     411 non-null    int64  \n",
      " 27  Total_Long_Distance_Charges  411 non-null    float64\n",
      " 28  Total_Revenue                411 non-null    float64\n",
      " 29  Customer_Status              411 non-null    object \n",
      " 30  Churn_Category               0 non-null      object \n",
      " 31  Churn_Reason                 0 non-null      object \n",
      "dtypes: float64(5), int64(4), object(23)\n",
      "memory usage: 106.0+ KB\n"
     ]
    }
   ],
   "source": [
    "df_test = df[df['Customer_Status']==('Joined')]\n",
    "df_test.info()"
   ]
  },
  {
   "cell_type": "code",
   "execution_count": 63,
   "id": "0ae2b52a",
   "metadata": {},
   "outputs": [
    {
     "name": "stdout",
     "output_type": "stream",
     "text": [
      "<class 'pandas.core.frame.DataFrame'>\n",
      "Index: 6007 entries, 0 to 6417\n",
      "Data columns (total 32 columns):\n",
      " #   Column                       Non-Null Count  Dtype  \n",
      "---  ------                       --------------  -----  \n",
      " 0   Customer_ID                  6007 non-null   object \n",
      " 1   Gender                       6007 non-null   object \n",
      " 2   Age                          6007 non-null   int64  \n",
      " 3   Married                      6007 non-null   object \n",
      " 4   State                        6007 non-null   object \n",
      " 5   Number_of_Referrals          6007 non-null   int64  \n",
      " 6   Tenure_in_Months             6007 non-null   int64  \n",
      " 7   Value_Deal                   2710 non-null   object \n",
      " 8   Phone_Service                6007 non-null   object \n",
      " 9   Multiple_Lines               5417 non-null   object \n",
      " 10  Internet_Service             6007 non-null   object \n",
      " 11  Internet_Type                4784 non-null   object \n",
      " 12  Online_Security              4784 non-null   object \n",
      " 13  Online_Backup                4784 non-null   object \n",
      " 14  Device_Protection_Plan       4784 non-null   object \n",
      " 15  Premium_Support              4784 non-null   object \n",
      " 16  Streaming_TV                 4784 non-null   object \n",
      " 17  Streaming_Movies             4784 non-null   object \n",
      " 18  Streaming_Music              4784 non-null   object \n",
      " 19  Unlimited_Data               4784 non-null   object \n",
      " 20  Contract                     6007 non-null   object \n",
      " 21  Paperless_Billing            6007 non-null   object \n",
      " 22  Payment_Method               6007 non-null   object \n",
      " 23  Monthly_Charge               6007 non-null   float64\n",
      " 24  Total_Charges                6007 non-null   float64\n",
      " 25  Total_Refunds                6007 non-null   float64\n",
      " 26  Total_Extra_Data_Charges     6007 non-null   int64  \n",
      " 27  Total_Long_Distance_Charges  6007 non-null   float64\n",
      " 28  Total_Revenue                6007 non-null   float64\n",
      " 29  Customer_Status              6007 non-null   object \n",
      " 30  Churn_Category               1732 non-null   object \n",
      " 31  Churn_Reason                 1732 non-null   object \n",
      "dtypes: float64(5), int64(4), object(23)\n",
      "memory usage: 1.5+ MB\n"
     ]
    }
   ],
   "source": [
    "df = df[df['Customer_Status'].isin(['Churned', 'Stayed'])]\n",
    "df.info()"
   ]
  },
  {
   "cell_type": "code",
   "execution_count": 64,
   "id": "47e56132",
   "metadata": {},
   "outputs": [],
   "source": [
    "\n",
    "# Drop columns that won't be used for prediction\n",
    "df = df.drop(['Customer_ID', 'Churn_Category', 'Churn_Reason'], axis=1)\n",
    "# List of columns to be label encoded\n",
    "\n",
    "columns_to_encode = [\n",
    "\n",
    "    'Gender', 'Married', 'State', 'Value_Deal', 'Phone_Service', 'Multiple_Lines',\n",
    "\n",
    "    'Internet_Service', 'Internet_Type', 'Online_Security', 'Online_Backup',\n",
    "\n",
    "    'Device_Protection_Plan', 'Premium_Support', 'Streaming_TV', 'Streaming_Movies',\n",
    "\n",
    "    'Streaming_Music', 'Unlimited_Data', 'Contract', 'Paperless_Billing',\n",
    "\n",
    "    'Payment_Method'\n",
    "\n",
    "]\n",
    "# Encode categorical variables except the target variable\n",
    "label_encoders={}\n",
    "for col in columns_to_encode:\n",
    "    label_encoders[col] = LabelEncoder()\n",
    "    df[col]= label_encoders[col].fit_transform(df[col])\n",
    "\n",
    "df['Customer_Status']=df['Customer_Status'].map({'Churned':1,'Stayed':0})\n",
    "X = df.drop('Customer_Status', axis=1)\n",
    "\n",
    "y = df['Customer_Status']\n",
    "\n",
    "# Split data into training and testing sets\n",
    "x_train,x_test,y_train,y_test = train_test_split(X,y,test_size=0.25,random_state=42)"
   ]
  },
  {
   "cell_type": "code",
   "execution_count": 65,
   "metadata": {},
   "outputs": [],
   "source": [
    "rf_model = RandomForestClassifier(n_estimators=100,random_state=2)\n",
    "rf_model.fit(x_train,y_train)\n",
    "y_pred = rf_model.predict(x_test)\n",
    "\n"
   ]
  },
  {
   "cell_type": "code",
   "execution_count": 66,
   "id": "c21e3273",
   "metadata": {},
   "outputs": [
    {
     "data": {
      "text/plain": [
       "array([[987,  67],\n",
       "       [176, 272]])"
      ]
     },
     "execution_count": 66,
     "metadata": {},
     "output_type": "execute_result"
    }
   ],
   "source": [
    "# Evaluate the model\n",
    "confusion_matrix(y_test,y_pred)"
   ]
  },
  {
   "cell_type": "code",
   "execution_count": 67,
   "id": "3563757a",
   "metadata": {},
   "outputs": [
    {
     "name": "stdout",
     "output_type": "stream",
     "text": [
      "Confusion Matrix:\n",
      "\n",
      "                  Predicted\n",
      "                  Stayed(0)  Churned(1)\n",
      "Actual Stayed(0)  987      67\n",
      "      Churned(1)  176      272\n",
      "\n",
      "\n",
      "Precision calculations:\n",
      "Class 0 (Stayed) Precision = 987/(987 + 176) = 0.85\n",
      "Class 1 (Churned) Precision = 272/(272 + 67) = 0.80\n"
     ]
    }
   ],
   "source": [
    "# Create confusion matrix with labels\n",
    "cm = confusion_matrix(y_test, y_pred)\n",
    "print(\"Confusion Matrix:\")\n",
    "print(f\"\"\"\n",
    "                  Predicted\n",
    "                  Stayed(0)  Churned(1)\n",
    "Actual Stayed(0)  {cm[0,0]}      {cm[0,1]}\n",
    "      Churned(1)  {cm[1,0]}      {cm[1,1]}\n",
    "\"\"\")\n",
    "\n",
    "# Calculate precision for each class\n",
    "precision_0 = cm[0,0] / (cm[0,0] + cm[1,0])  # TP₀/(TP₀ + FP₀)\n",
    "precision_1 = cm[1,1] / (cm[1,1] + cm[0,1])  # TP₁/(TP₁ + FP₁)\n",
    "\n",
    "print(f\"\\nPrecision calculations:\")\n",
    "print(f\"Class 0 (Stayed) Precision = {cm[0,0]}/({cm[0,0]} + {cm[1,0]}) = {precision_0:.2f}\")\n",
    "print(f\"Class 1 (Churned) Precision = {cm[1,1]}/({cm[1,1]} + {cm[0,1]}) = {precision_1:.2f}\")"
   ]
  },
  {
   "cell_type": "code",
   "execution_count": 68,
   "id": "24bddb5c",
   "metadata": {},
   "outputs": [
    {
     "name": "stdout",
     "output_type": "stream",
     "text": [
      "\n",
      "Classification Report as DataFrame:\n",
      "              precision    recall  f1-score      support\n",
      "0              0.848667  0.936433  0.890392  1054.000000\n",
      "1              0.802360  0.607143  0.691233   448.000000\n",
      "accuracy       0.838216  0.838216  0.838216     0.838216\n",
      "macro avg      0.825514  0.771788  0.790812  1502.000000\n",
      "weighted avg   0.834855  0.838216  0.830989  1502.000000\n"
     ]
    }
   ],
   "source": [
    "# Convert classification report to DataFrame for better readability\n",
    "report = classification_report(y_test, y_pred, output_dict=True)\n",
    "report_df = pd.DataFrame(report).transpose()\n",
    "print(\"\\nClassification Report as DataFrame:\")\n",
    "print(report_df)"
   ]
  },
  {
   "cell_type": "code",
   "execution_count": 69,
   "id": "e39e7f2a",
   "metadata": {},
   "outputs": [
    {
     "name": "stdout",
     "output_type": "stream",
     "text": [
      "[0.00979133 0.06458954 0.01030338 0.04075817 0.03894683 0.04738981\n",
      " 0.02279326 0.00251665 0.01080917 0.00284622 0.02143695 0.03663696\n",
      " 0.01357097 0.01587642 0.02888622 0.01237058 0.01357195 0.01049805\n",
      " 0.00692756 0.12973618 0.01177976 0.01688381 0.07990354 0.13144984\n",
      " 0.00753479 0.01167715 0.07257264 0.12794224]\n"
     ]
    }
   ],
   "source": [
    "\n",
    "importances = rf_model.feature_importances_\n",
    "print(importances)"
   ]
  },
  {
   "cell_type": "code",
   "execution_count": 70,
   "id": "0ba56963",
   "metadata": {},
   "outputs": [
    {
     "data": {
      "image/png": "[encoded data removed]",
      "text/plain": [
       "<Figure size 1500x600 with 1 Axes>"
      ]
     },
     "metadata": {},
     "output_type": "display_data"
    }
   ],
   "source": [
    "indices = np.argsort(importances)[::-1]\n",
    "plt.figure(figsize=(15,6))\n",
    "sns.barplot(x=importances[indices], y=X.columns[indices])\n",
    "plt.title('Feature Importances')\n",
    "\n",
    "plt.xlabel('Relative Importance')\n",
    "\n",
    "plt.ylabel('Feature Names')\n",
    "\n",
    "plt.show()"
   ]
  },
  {
   "cell_type": "markdown",
   "id": "7555f896",
   "metadata": {},
   "source": [
    "# Use Model for Prediction on New Data"
   ]
  },
  {
   "cell_type": "code",
   "execution_count": 71,
   "id": "1c2524db",
   "metadata": {},
   "outputs": [],
   "source": [
    "\n",
    "# Retain the original DataFrame to preserve unencoded columns\n",
    "\n",
    "original_data = df_test.copy()\n",
    "# Retain the Customer_ID column\n",
    "new_data = df_test.copy()\n",
    "customer_ids = new_data['Customer_ID']\n",
    "# Drop columns that won't be used for prediction in the encoded DataFrame\n",
    "\n",
    "new_data = new_data.drop(['Customer_ID', 'Customer_Status', 'Churn_Category', 'Churn_Reason'], axis=1)\n",
    "# Encode categorical variables using the saved label encoders\n",
    "\n",
    "for column in new_data.select_dtypes(include=['object']).columns:\n",
    "\n",
    "    new_data[column] = label_encoders[column].transform(new_data[column])\n",
    "\n",
    " \n",
    "\n",
    "# Make predictions\n",
    "\n",
    "new_predictions = rf_model.predict(new_data)\n",
    "\n",
    " \n",
    "\n",
    "# Add predictions to the original DataFrame\n",
    "\n",
    "original_data['Customer_Status_Predicted'] = new_predictions\n",
    "\n",
    " \n",
    "\n",
    "# Filter the DataFrame to include only records predicted as \"Churned\"\n",
    "\n",
    "original_data = original_data[original_data['Customer_Status_Predicted'] == 1]\n",
    "\n",
    " \n",
    "\n",
    "# Save the results\n",
    "\n",
    "original_data.to_csv(r\"D:\\Data Science\\Extra Projects\\Customer Churn prediction\\Data & Resources\\Data\\Predictions.csv\", index=False)"
   ]
  },
  {
   "cell_type": "code",
   "execution_count": null,
   "metadata": {},
   "outputs": [],
   "source": []
  },
  {
   "cell_type": "code",
   "execution_count": null,
   "metadata": {},
   "outputs": [],
   "source": []
  }
 ],
 "metadata": {
  "kernelspec": {
   "display_name": "General_Env_3.10",
   "language": "python",
   "name": "python3"
  },
  "language_info": {
   "codemirror_mode": {
    "name": "ipython",
    "version": 3
   },
   "file_extension": ".py",
   "mimetype": "text/x-python",
   "name": "python",
   "nbconvert_exporter": "python",
   "pygments_lexer": "ipython3",
   "version": "3.10.18"
  }
 },
 "nbformat": 4,
 "nbformat_minor": 5
}
